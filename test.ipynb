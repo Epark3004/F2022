{
  "nbformat": 4,
  "nbformat_minor": 0,
  "metadata": {
    "colab": {
      "provenance": [],
      "authorship_tag": "ABX9TyN3rHCba6VKZS1A0Xoso6z6",
      "include_colab_link": true
    },
    "kernelspec": {
      "name": "python3",
      "display_name": "Python 3"
    },
    "language_info": {
      "name": "python"
    }
  },
  "cells": [
    {
      "cell_type": "markdown",
      "metadata": {
        "id": "view-in-github",
        "colab_type": "text"
      },
      "source": [
        "<a href=\"https://colab.research.google.com/github/Epark3004/F2022/blob/main/test.ipynb\" target=\"_parent\"><img src=\"https://colab.research.google.com/assets/colab-badge.svg\" alt=\"Open In Colab\"/></a>"
      ]
    },
    {
      "cell_type": "code",
      "execution_count": 11,
      "metadata": {
        "colab": {
          "base_uri": "https://localhost:8080/"
        },
        "id": "Sfnv8w6-M3PU",
        "outputId": "22210ab9-4d03-4ca5-a136-eeccbd55fda2"
      },
      "outputs": [
        {
          "output_type": "stream",
          "name": "stdout",
          "text": [
            "   Name  Age\n",
            "0  Choi   22\n",
            "1   Kim   48\n",
            "2   Joo   32\n"
          ]
        }
      ],
      "source": [
        "  import pandas as pd\n",
        "\n",
        "  data = [['Choi',22],['Kim',48],['Joo',32]]\n",
        "\n",
        "  df = pd.DataFrame(data, columns=['Name','Age'])\n",
        "\n",
        "  print(df)\n",
        "  #   Name  Age\n",
        "  #0  Choi   22\n",
        "  #1   Kim   48\n",
        "  #2   Joo   32"
      ]
    },
    {
      "cell_type": "markdown",
      "source": [
        "# 새 섹션"
      ],
      "metadata": {
        "id": "LKsDacxUHQaU"
      }
    }
  ]
}